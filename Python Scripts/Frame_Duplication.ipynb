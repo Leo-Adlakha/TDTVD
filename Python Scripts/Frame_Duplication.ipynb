{
 "cells": [
  {
   "cell_type": "code",
   "execution_count": 10,
   "metadata": {},
   "outputs": [],
   "source": [
    "import numpy as np\n",
    "import cv2 as cv"
   ]
  },
  {
   "cell_type": "code",
   "execution_count": 11,
   "metadata": {},
   "outputs": [],
   "source": [
    "# cap = cv.VideoCapture(args[\"input\"])\n",
    "cap = cv.VideoCapture(\"../original_video/example.mp4\")\n",
    "# codec = cv.VideoWriter_fourcc(*args[\"codec\"])\n",
    "codec = cv.VideoWriter_fourcc(*\"h264\")\n",
    "writer = None\n",
    "(h, w) = (None, None)\n",
    "zeros = None\n",
    "dup_start = 50\n",
    "dup_end = 80\n",
    "dup_ins = 140 \n",
    "count = 1\n",
    "storage = []"
   ]
  },
  {
   "cell_type": "code",
   "execution_count": 12,
   "metadata": {},
   "outputs": [
    {
     "name": "stdout",
     "output_type": "stream",
     "text": [
      "Can't receive frame (stream end?). Exiting ...\n"
     ]
    }
   ],
   "source": [
    "while True :\n",
    "    # Capture frame-by-frame\n",
    "    ret, frame = cap.read()\n",
    "    # if frame is read correctly ret is True\n",
    "    if not ret:\n",
    "        print(\"Can't receive frame (stream end?). Exiting ...\")\n",
    "        break\n",
    "    \n",
    "    if writer is None :\n",
    "        (h, w) = frame.shape[:2]\n",
    "    \n",
    "    if count >= dup_start and count <= dup_end :\n",
    "        storage.append(frame)\n",
    "    \n",
    "    count += 1\n",
    "    \n",
    "    # Display the resulting frame\n",
    "#     cv.imshow('frame', frame)\n",
    "    if cv.waitKey(1) == ord('q'):\n",
    "        break"
   ]
  },
  {
   "cell_type": "code",
   "execution_count": 13,
   "metadata": {},
   "outputs": [
    {
     "data": {
      "text/plain": [
       "(31, 183, (1080, 1920))"
      ]
     },
     "execution_count": 13,
     "metadata": {},
     "output_type": "execute_result"
    }
   ],
   "source": [
    "len(storage), count, (h, w)"
   ]
  },
  {
   "cell_type": "code",
   "execution_count": 14,
   "metadata": {},
   "outputs": [],
   "source": [
    "total_frames = count - 1\n",
    "count = 0 \n",
    "frames_left = total_frames - len(storage)\n",
    "writer = cv.VideoWriter(\"../test/output_duplication.mp4\", codec, 30, (w, h), True)\n",
    "cap = cv.VideoCapture(\"../original_video/example.mp4\")"
   ]
  },
  {
   "cell_type": "code",
   "execution_count": 15,
   "metadata": {},
   "outputs": [
    {
     "data": {
      "text/plain": [
       "(182, 0, 151)"
      ]
     },
     "execution_count": 15,
     "metadata": {},
     "output_type": "execute_result"
    }
   ],
   "source": [
    "total_frames, count, frames_left"
   ]
  },
  {
   "cell_type": "code",
   "execution_count": 16,
   "metadata": {},
   "outputs": [],
   "source": [
    "while True :\n",
    "    # Capture frame-by-frame\n",
    "    ret, frame = cap.read()\n",
    "    # if frame is read correctly ret is True\n",
    "    if not ret:\n",
    "        print(\"Can't receive frame (stream end?). Exiting ...\")\n",
    "        break \n",
    "    count += 1\n",
    "        \n",
    "    if count == dup_ins - 1 :\n",
    "        for i in storage :\n",
    "            writer.write(i)\n",
    "            count += 1\n",
    "            \n",
    "    if count == total_frames :\n",
    "        break \n",
    "    \n",
    "    writer.write(frame)\n",
    "    \n",
    "    # Display the resulting frame\n",
    "    # cv.imshow('frame', frame)\n",
    "    if cv.waitKey(1) == ord('q'):\n",
    "        break\n",
    "        \n",
    "cap.release()\n",
    "writer.release()\n",
    "cv.destroyAllWindows()"
   ]
  }
 ],
 "metadata": {
  "kernelspec": {
   "display_name": "Python 3",
   "language": "python",
   "name": "python3"
  },
  "language_info": {
   "codemirror_mode": {
    "name": "ipython",
    "version": 3
   },
   "file_extension": ".py",
   "mimetype": "text/x-python",
   "name": "python",
   "nbconvert_exporter": "python",
   "pygments_lexer": "ipython3",
   "version": "3.7.9"
  }
 },
 "nbformat": 4,
 "nbformat_minor": 4
}
