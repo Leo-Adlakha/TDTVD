{
 "cells": [
  {
   "cell_type": "code",
   "execution_count": 33,
   "metadata": {},
   "outputs": [],
   "source": [
    "import numpy as np\n",
    "import cv2 as cv"
   ]
  },
  {
   "cell_type": "code",
   "execution_count": 34,
   "metadata": {},
   "outputs": [],
   "source": [
    "# cap = cv.VideoCapture(args[\"input\"])\n",
    "cap = cv.VideoCapture(\"../original_video/example.mp4\")\n",
    "cap2 = cv.VideoCapture(\"../original_video/example2.mp4\")\n",
    "# codec = cv.VideoWriter_fourcc(*args[\"codec\"])\n",
    "codec = cv.VideoWriter_fourcc(*\"h264\")\n",
    "writer = None\n",
    "(h, w) = (None, None)\n",
    "ins_start = 30\n",
    "ins_end = 80\n",
    "start_ins = 100\n",
    "count = 0\n",
    "storage = []"
   ]
  },
  {
   "cell_type": "code",
   "execution_count": 35,
   "metadata": {},
   "outputs": [
    {
     "name": "stdout",
     "output_type": "stream",
     "text": [
      "Can't receive frame (stream end?). Exiting ...\n"
     ]
    }
   ],
   "source": [
    "while True :\n",
    "    \n",
    "    ret, frame = cap2.read() ;\n",
    "    if not ret :\n",
    "        print(\"Can't receive frame (stream end?). Exiting ...\")\n",
    "        break\n",
    "        \n",
    "    count += 1\n",
    "    \n",
    "    if writer is None :\n",
    "        (h, w) = frame.shape[:2]\n",
    "    \n",
    "    if count >= ins_start and count <= ins_end :\n",
    "        storage.append(frame) \n",
    "        \n",
    "    if cv.waitKey(1) == ord('q') :\n",
    "        break "
   ]
  },
  {
   "cell_type": "code",
   "execution_count": 36,
   "metadata": {},
   "outputs": [
    {
     "data": {
      "text/plain": [
       "(51, (1080, 1920))"
      ]
     },
     "execution_count": 36,
     "metadata": {},
     "output_type": "execute_result"
    }
   ],
   "source": [
    "len(storage), (h,w)"
   ]
  },
  {
   "cell_type": "code",
   "execution_count": 37,
   "metadata": {},
   "outputs": [],
   "source": [
    "writer = cv.VideoWriter(\"../test/output_insertion.mp4\", codec, 30, (w, h), True)"
   ]
  },
  {
   "cell_type": "code",
   "execution_count": 38,
   "metadata": {},
   "outputs": [
    {
     "name": "stdout",
     "output_type": "stream",
     "text": [
      "Can't receive frame (stream end?). Exiting ...\n"
     ]
    }
   ],
   "source": [
    "count = 0 \n",
    "while True :\n",
    "    \n",
    "    ret, frame = cap.read() ;\n",
    "    if not ret :\n",
    "        print(\"Can't receive frame (stream end?). Exiting ...\")\n",
    "        break\n",
    "        \n",
    "    count += 1\n",
    "        \n",
    "    if cv.waitKey(1) == ord('q') :\n",
    "        break "
   ]
  },
  {
   "cell_type": "code",
   "execution_count": 39,
   "metadata": {},
   "outputs": [],
   "source": [
    "total_frames = count\n",
    "count = 0 \n",
    "cap = cv.VideoCapture(\"../original_video/example.mp4\")"
   ]
  },
  {
   "cell_type": "code",
   "execution_count": 40,
   "metadata": {},
   "outputs": [
    {
     "data": {
      "text/plain": [
       "182"
      ]
     },
     "execution_count": 40,
     "metadata": {},
     "output_type": "execute_result"
    }
   ],
   "source": [
    "total_frames"
   ]
  },
  {
   "cell_type": "code",
   "execution_count": 41,
   "metadata": {},
   "outputs": [],
   "source": [
    "while True :\n",
    "    # Capture frame-by-frame\n",
    "    ret, frame = cap.read()\n",
    "    # if frame is read correctly ret is True\n",
    "    if not ret:\n",
    "        print(\"Can't receive frame (stream end?). Exiting ...\")\n",
    "        break \n",
    "        \n",
    "    count += 1\n",
    "        \n",
    "    if count == start_ins :\n",
    "        for i in storage :\n",
    "            writer.write(i)\n",
    "            count += 1\n",
    "    \n",
    "    if count == total_frames + 1 :\n",
    "        break\n",
    "    \n",
    "    writer.write(frame)\n",
    "    \n",
    "    # Display the resulting frame\n",
    "    # cv.imshow('frame', frame)\n",
    "    if cv.waitKey(1) == ord('q'):\n",
    "        break\n",
    "        \n",
    "cap.release()\n",
    "cap2.release()\n",
    "writer.release()\n",
    "cv.destroyAllWindows()"
   ]
  },
  {
   "cell_type": "code",
   "execution_count": null,
   "metadata": {},
   "outputs": [],
   "source": []
  }
 ],
 "metadata": {
  "kernelspec": {
   "display_name": "Python 3",
   "language": "python",
   "name": "python3"
  },
  "language_info": {
   "codemirror_mode": {
    "name": "ipython",
    "version": 3
   },
   "file_extension": ".py",
   "mimetype": "text/x-python",
   "name": "python",
   "nbconvert_exporter": "python",
   "pygments_lexer": "ipython3",
   "version": "3.7.9"
  }
 },
 "nbformat": 4,
 "nbformat_minor": 4
}
