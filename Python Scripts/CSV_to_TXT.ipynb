{
 "cells": [
  {
   "cell_type": "code",
   "execution_count": 1,
   "metadata": {},
   "outputs": [],
   "source": [
    "import numpy as np\n",
    "import pandas as pd"
   ]
  },
  {
   "cell_type": "code",
   "execution_count": 2,
   "metadata": {},
   "outputs": [],
   "source": [
    "data = pd.read_csv(\"/Users/leoadlakha/Documents/Research Work/TDTVD/csv/insertion.csv\", header = 0)"
   ]
  },
  {
   "cell_type": "code",
   "execution_count": 3,
   "metadata": {},
   "outputs": [
    {
     "data": {
      "text/html": [
       "<div>\n",
       "<style scoped>\n",
       "    .dataframe tbody tr th:only-of-type {\n",
       "        vertical-align: middle;\n",
       "    }\n",
       "\n",
       "    .dataframe tbody tr th {\n",
       "        vertical-align: top;\n",
       "    }\n",
       "\n",
       "    .dataframe thead th {\n",
       "        text-align: right;\n",
       "    }\n",
       "</style>\n",
       "<table border=\"1\" class=\"dataframe\">\n",
       "  <thead>\n",
       "    <tr style=\"text-align: right;\">\n",
       "      <th></th>\n",
       "      <th>Insert In ( Video file path )</th>\n",
       "      <th>Insert from ( Video file path )</th>\n",
       "      <th>start_ins_in_1</th>\n",
       "      <th>ins_start_2</th>\n",
       "      <th>ins_end_2</th>\n",
       "      <th>Type</th>\n",
       "    </tr>\n",
       "  </thead>\n",
       "  <tbody>\n",
       "    <tr>\n",
       "      <th>0</th>\n",
       "      <td>/Users/leoadlakha/Documents/Research Work/TDTV...</td>\n",
       "      <td>/Users/leoadlakha/Documents/Research Work/TDTV...</td>\n",
       "      <td>100</td>\n",
       "      <td>30</td>\n",
       "      <td>80</td>\n",
       "      <td>S</td>\n",
       "    </tr>\n",
       "    <tr>\n",
       "      <th>1</th>\n",
       "      <td>/Users/leoadlakha/Documents/Research Work/TDTV...</td>\n",
       "      <td>/Users/leoadlakha/Documents/Research Work/TDTV...</td>\n",
       "      <td>100</td>\n",
       "      <td>30</td>\n",
       "      <td>80</td>\n",
       "      <td>D</td>\n",
       "    </tr>\n",
       "  </tbody>\n",
       "</table>\n",
       "</div>"
      ],
      "text/plain": [
       "                       Insert In ( Video file path )  \\\n",
       "0  /Users/leoadlakha/Documents/Research Work/TDTV...   \n",
       "1  /Users/leoadlakha/Documents/Research Work/TDTV...   \n",
       "\n",
       "                     Insert from ( Video file path )  start_ins_in_1  \\\n",
       "0  /Users/leoadlakha/Documents/Research Work/TDTV...             100   \n",
       "1  /Users/leoadlakha/Documents/Research Work/TDTV...             100   \n",
       "\n",
       "   ins_start_2  ins_end_2 Type  \n",
       "0           30         80    S  \n",
       "1           30         80    D  "
      ]
     },
     "execution_count": 3,
     "metadata": {},
     "output_type": "execute_result"
    }
   ],
   "source": [
    "data"
   ]
  },
  {
   "cell_type": "code",
   "execution_count": 4,
   "metadata": {},
   "outputs": [],
   "source": [
    "in_from = data.iloc[0:1, 1:2]"
   ]
  },
  {
   "cell_type": "code",
   "execution_count": 5,
   "metadata": {},
   "outputs": [
    {
     "data": {
      "text/plain": [
       "'                                                       Insert from ( Video file path )\\n0  /Users/leoadlakha/Documents/Research Work/TDTVD/original_video/car_parking_nsut.mp4'"
      ]
     },
     "execution_count": 5,
     "metadata": {},
     "output_type": "execute_result"
    }
   ],
   "source": [
    "in_from.to_string()"
   ]
  },
  {
   "cell_type": "code",
   "execution_count": 6,
   "metadata": {},
   "outputs": [
    {
     "data": {
      "text/plain": [
       "'                                                         Insert In ( Video file path )                                                      Insert from ( Video file path )  start_ins_in_1  ins_start_2  ins_end_2 Type\\n0  /Users/leoadlakha/Documents/Research Work/TDTVD/original_video/car_parking_nsut.mp4  /Users/leoadlakha/Documents/Research Work/TDTVD/original_video/car_parking_nsut.mp4             100           30         80    S\\n1           /Users/leoadlakha/Documents/Research Work/TDTVD/original_video/example.mp4          /Users/leoadlakha/Documents/Research Work/TDTVD/original_video/example2.mp4             100           30         80    D'"
      ]
     },
     "execution_count": 6,
     "metadata": {},
     "output_type": "execute_result"
    }
   ],
   "source": [
    "data.to_string()"
   ]
  },
  {
   "cell_type": "code",
   "execution_count": 7,
   "metadata": {},
   "outputs": [],
   "source": [
    "import csv"
   ]
  },
  {
   "cell_type": "code",
   "execution_count": 8,
   "metadata": {},
   "outputs": [],
   "source": [
    "csv_file = \"/Users/leoadlakha/Documents/Research Work/TDTVD/csv/insertion.csv\"\n",
    "txt_file = \"/Users/leoadlakha/Documents/Research Work/TDTVD/csv/input.txt\"\n",
    "with open(txt_file, \"w\") as my_output_file:\n",
    "    with open(csv_file, \"r\") as my_input_file:\n",
    "        [ my_output_file.write(\" \".join(row)+'\\n') for row in csv.reader(my_input_file)] \n",
    "    my_output_file.close()"
   ]
  },
  {
   "cell_type": "code",
   "execution_count": 9,
   "metadata": {},
   "outputs": [],
   "source": [
    "txt_file = \"/Users/leoadlakha/Documents/Research Work/TDTVD/csv/input.txt\"\n",
    "\n",
    "with open(txt_file, \"r\") as my_input_file :\n",
    "    data = my_input_file.read().splitlines(True)"
   ]
  },
  {
   "cell_type": "code",
   "execution_count": 10,
   "metadata": {},
   "outputs": [
    {
     "data": {
      "text/plain": [
       "['Insert In ( Video file path ) Insert from ( Video file path ) start_ins_in_1 ins_start_2 ins_end_2 Type\\n',\n",
       " '/Users/leoadlakha/Documents/Research Work/TDTVD/original_video/car_parking_nsut.mp4 /Users/leoadlakha/Documents/Research Work/TDTVD/original_video/car_parking_nsut.mp4 100 30 80 S\\n',\n",
       " '/Users/leoadlakha/Documents/Research Work/TDTVD/original_video/example.mp4 /Users/leoadlakha/Documents/Research Work/TDTVD/original_video/example2.mp4 100 30 80 D\\n']"
      ]
     },
     "execution_count": 10,
     "metadata": {},
     "output_type": "execute_result"
    }
   ],
   "source": [
    "data"
   ]
  },
  {
   "cell_type": "code",
   "execution_count": 11,
   "metadata": {},
   "outputs": [],
   "source": [
    "for i in range(len(data)):\n",
    "    data[i] = data[i].rstrip('\\n')"
   ]
  },
  {
   "cell_type": "code",
   "execution_count": 12,
   "metadata": {},
   "outputs": [
    {
     "ename": "ValueError",
     "evalue": "too many values to unpack (expected 5)",
     "output_type": "error",
     "traceback": [
      "\u001b[0;31m---------------------------------------------------------------------------\u001b[0m",
      "\u001b[0;31mValueError\u001b[0m                                Traceback (most recent call last)",
      "\u001b[0;32m<ipython-input-12-bf91e2fa01dc>\u001b[0m in \u001b[0;36m<module>\u001b[0;34m\u001b[0m\n\u001b[0;32m----> 1\u001b[0;31m \u001b[0;34m(\u001b[0m\u001b[0minsert_in\u001b[0m\u001b[0;34m,\u001b[0m \u001b[0minsert_from\u001b[0m\u001b[0;34m,\u001b[0m \u001b[0mstart_ins\u001b[0m\u001b[0;34m,\u001b[0m \u001b[0mins_start\u001b[0m\u001b[0;34m,\u001b[0m \u001b[0mins_end\u001b[0m\u001b[0;34m)\u001b[0m \u001b[0;34m=\u001b[0m \u001b[0mdata\u001b[0m\u001b[0;34m[\u001b[0m\u001b[0mi\u001b[0m\u001b[0;34m]\u001b[0m\u001b[0;34m.\u001b[0m\u001b[0msplit\u001b[0m\u001b[0;34m(\u001b[0m\u001b[0;34m\" \"\u001b[0m\u001b[0;34m)\u001b[0m\u001b[0;34m\u001b[0m\u001b[0;34m\u001b[0m\u001b[0m\n\u001b[0m",
      "\u001b[0;31mValueError\u001b[0m: too many values to unpack (expected 5)"
     ]
    }
   ],
   "source": [
    "(insert_in, insert_from, start_ins, ins_start, ins_end) = data[i].split(\" \")"
   ]
  },
  {
   "cell_type": "code",
   "execution_count": 14,
   "metadata": {},
   "outputs": [
    {
     "name": "stdout",
     "output_type": "stream",
     "text": [
      "[['Insert', 'In', '(', 'Video', 'file', 'path', ')', 'Insert', 'from', '(', 'Video', 'file', 'path', ')', 'start_ins_in_1', 'ins_start_2', 'ins_end_2', 'Type']]\n",
      "['/Users/leoadlakha/Documents/Research Work/TDTVD/original_video/car_parking_nsut.mp4', '/Users/leoadlakha/Documents/Research Work/TDTVD/original_video/car_parking_nsut.mp4', ['100', '30', '80', 'S']]\n",
      "['/Users/leoadlakha/Documents/Research Work/TDTVD/original_video/example.mp4', '/Users/leoadlakha/Documents/Research Work/TDTVD/original_video/example2.mp4', ['100', '30', '80', 'D']]\n"
     ]
    }
   ],
   "source": [
    "for i in range(len(data)) :\n",
    "    inp = data[i]\n",
    "    got_addr = 0 \n",
    "    last_idx = 0\n",
    "    imp_data = []\n",
    "    for j in range(len(inp)) :\n",
    "        if inp[j:j+4] == 'mp4 ' :\n",
    "            imp_data.append(inp[last_idx:j+3])\n",
    "            got_addr += 1\n",
    "            last_idx = j + 4\n",
    "        \n",
    "        if got_addr >= 2 : \n",
    "            inp = inp[last_idx:]\n",
    "            break\n",
    "            \n",
    "    end_data = inp.split()\n",
    "    imp_data.append(end_data)\n",
    "    print(imp_data)"
   ]
  },
  {
   "cell_type": "code",
   "execution_count": null,
   "metadata": {},
   "outputs": [],
   "source": []
  }
 ],
 "metadata": {
  "kernelspec": {
   "display_name": "Python 3",
   "language": "python",
   "name": "python3"
  },
  "language_info": {
   "codemirror_mode": {
    "name": "ipython",
    "version": 3
   },
   "file_extension": ".py",
   "mimetype": "text/x-python",
   "name": "python",
   "nbconvert_exporter": "python",
   "pygments_lexer": "ipython3",
   "version": "3.7.9"
  }
 },
 "nbformat": 4,
 "nbformat_minor": 4
}
