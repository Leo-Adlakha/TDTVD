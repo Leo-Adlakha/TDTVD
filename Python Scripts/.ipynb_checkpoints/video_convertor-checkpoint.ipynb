{
 "cells": [
  {
   "cell_type": "code",
   "execution_count": 2,
   "metadata": {},
   "outputs": [],
   "source": [
    "from __future__ import print_function\n",
    "import numpy as np\n",
    "import argparse\n",
    "import imutils\n",
    "import cv2 as cv"
   ]
  },
  {
   "cell_type": "code",
   "execution_count": null,
   "metadata": {},
   "outputs": [],
   "source": [
    "# Arguments Parser - for running using terminal\n",
    "ap = argparse.ArgumentParser()\n",
    "ap.add_argument(\"-o\", \"--output\", required=True, help=\"path to output video file\")\n",
    "ap.add_argument(\"-f\", \"--fps\", type=int, default=20, help=\"FPS of output video\")\n",
    "ap.add_argument(\"-c\", \"--codec\", type=str, default=\"MJPG\", help=\"codec of output video\")\n",
    "ap.add_argument(\"-i\", \"--input\", required=True, help=\"path to input video file\")\n",
    "args = vars(ap.parse_args())"
   ]
  },
  {
   "cell_type": "code",
   "execution_count": 4,
   "metadata": {},
   "outputs": [],
   "source": [
    "# cap = cv.VideoCapture(args[\"input\"])\n",
    "cap = cv.VideoCapture(\"../original_video/example.mp4\")\n",
    "# codec = cv.VideoWriter_fourcc(*args[\"codec\"])\n",
    "codec = cv.VideoWriter_fourcc(*\"h264\")\n",
    "writer = None\n",
    "(h, w) = (None, None)\n",
    "zeros = None"
   ]
  },
  {
   "cell_type": "code",
   "execution_count": 6,
   "metadata": {},
   "outputs": [
    {
     "name": "stdout",
     "output_type": "stream",
     "text": [
      "Can't receive frame (stream end?). Exiting ...\n"
     ]
    }
   ],
   "source": [
    "# Frames Shape - (1080, 1920, 3)\n",
    "\n",
    "while True :\n",
    "    # Capture frame-by-frame\n",
    "    ret, frame = cap.read()\n",
    "    # if frame is read correctly ret is True\n",
    "    if not ret:\n",
    "        print(\"Can't receive frame (stream end?). Exiting ...\")\n",
    "        break\n",
    "        \n",
    "    # check if the writer is None\n",
    "    if writer is None:\n",
    "        # store the image dimensions, initialize the video writer,\n",
    "        # and construct the zeros array\n",
    "        (h, w) = frame.shape[:2]\n",
    "        # writer = cv.VideoWriter(args[\"output\"], codec, args[\"fps\"], (w * 2, h * 2), True)\n",
    "        writer = cv.VideoWriter(\"../original_video/output_converted.mp4\", codec, 30, (w, h), True)\n",
    "        zeros = np.zeros((h, w), dtype=\"uint8\")\n",
    "       \n",
    "    # Our operations on the frame come here\n",
    "    # print(frame.shape)\n",
    "    \n",
    "    writer.write(frame)\n",
    "    \n",
    "    # Display the resulting frame\n",
    "    cv.imshow('frame', frame)\n",
    "    if cv.waitKey(1) == ord('q'):\n",
    "        break\n",
    "cap.release()\n",
    "writer.release()\n",
    "cv.destroyAllWindows()"
   ]
  },
  {
   "cell_type": "code",
   "execution_count": null,
   "metadata": {},
   "outputs": [],
   "source": []
  },
  {
   "cell_type": "code",
   "execution_count": null,
   "metadata": {},
   "outputs": [],
   "source": []
  }
 ],
 "metadata": {
  "kernelspec": {
   "display_name": "Python 3",
   "language": "python",
   "name": "python3"
  },
  "language_info": {
   "codemirror_mode": {
    "name": "ipython",
    "version": 3
   },
   "file_extension": ".py",
   "mimetype": "text/x-python",
   "name": "python",
   "nbconvert_exporter": "python",
   "pygments_lexer": "ipython3",
   "version": "3.7.9"
  }
 },
 "nbformat": 4,
 "nbformat_minor": 4
}
