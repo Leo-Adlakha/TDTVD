{
 "cells": [
  {
   "cell_type": "code",
   "execution_count": 1,
   "metadata": {},
   "outputs": [],
   "source": [
    "import numpy as np\n",
    "import cv2 as cv"
   ]
  },
  {
   "cell_type": "code",
   "execution_count": 4,
   "metadata": {},
   "outputs": [],
   "source": [
    "# cap = cv.VideoCapture(args[\"input\"])\n",
    "cap = cv.VideoCapture(\"../original_video/example.mp4\")\n",
    "# codec = cv.VideoWriter_fourcc(*args[\"codec\"])\n",
    "codec = cv.VideoWriter_fourcc(*\"h264\")\n",
    "writer = None\n",
    "(h, w) = (None, None)\n",
    "zeros = None\n",
    "del_start = 50\n",
    "del_end = 80\n",
    "count = 1"
   ]
  },
  {
   "cell_type": "code",
   "execution_count": 5,
   "metadata": {},
   "outputs": [
    {
     "name": "stdout",
     "output_type": "stream",
     "text": [
      "Can't receive frame (stream end?). Exiting ...\n"
     ]
    }
   ],
   "source": [
    "while True :\n",
    "    # Capture frame-by-frame\n",
    "    ret, frame = cap.read()\n",
    "    # if frame is read correctly ret is True\n",
    "    if not ret:\n",
    "        print(\"Can't receive frame (stream end?). Exiting ...\")\n",
    "        break\n",
    "    \n",
    "    # check if the writer is None\n",
    "    if writer is None:\n",
    "        # store the image dimensions, initialize the video writer,\n",
    "        # and construct the zeros array\n",
    "        (h, w) = frame.shape[:2]\n",
    "        # writer = cv.VideoWriter(args[\"output\"], codec, args[\"fps\"], (w * 2, h * 2), True)\n",
    "        writer = cv.VideoWriter(\"../test/output_deletion.mp4\", codec, 30, (w, h), True)\n",
    "        zeros = np.zeros((h, w), dtype=\"uint8\")\n",
    "       \n",
    "    # Our operations on the frame come here\n",
    "    # print(frame.shape)\n",
    "    \n",
    "    if count >= del_start and count <= del_end :\n",
    "        count += 1\n",
    "        continue\n",
    "    else :\n",
    "        count += 1\n",
    "        writer.write(frame)\n",
    "    \n",
    "    # Display the resulting frame\n",
    "    # cv.imshow('frame', frame)\n",
    "    if cv.waitKey(1) == ord('q'):\n",
    "        break\n",
    "        \n",
    "cap.release()\n",
    "writer.release()\n",
    "cv.destroyAllWindows()"
   ]
  }
 ],
 "metadata": {
  "kernelspec": {
   "display_name": "Python 3",
   "language": "python",
   "name": "python3"
  },
  "language_info": {
   "codemirror_mode": {
    "name": "ipython",
    "version": 3
   },
   "file_extension": ".py",
   "mimetype": "text/x-python",
   "name": "python",
   "nbconvert_exporter": "python",
   "pygments_lexer": "ipython3",
   "version": "3.7.9"
  }
 },
 "nbformat": 4,
 "nbformat_minor": 4
}
