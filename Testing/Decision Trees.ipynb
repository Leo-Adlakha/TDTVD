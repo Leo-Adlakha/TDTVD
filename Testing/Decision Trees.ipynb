{
 "cells": [
  {
   "cell_type": "code",
   "execution_count": 73,
   "metadata": {},
   "outputs": [],
   "source": [
    "import numpy as np\n",
    "import pandas as pd\n",
    "from sklearn.model_selection import train_test_split\n",
    "from sklearn import datasets\n",
    "from sklearn.tree import DecisionTreeClassifier\n",
    "from sklearn.tree import export_graphviz\n",
    "import pydotplus\n",
    "import graphviz\n",
    "from IPython.display import Image"
   ]
  },
  {
   "cell_type": "code",
   "execution_count": 101,
   "metadata": {},
   "outputs": [],
   "source": [
    "data = pd.read_csv(\"/Users/leoadlakha/Documents/Research Work/TDTVD/csv/data.csv\")"
   ]
  },
  {
   "cell_type": "code",
   "execution_count": 102,
   "metadata": {},
   "outputs": [],
   "source": [
    "x = data.iloc[:, 3:]\n",
    "y = data.iloc[:, 2]"
   ]
  },
  {
   "cell_type": "code",
   "execution_count": 103,
   "metadata": {},
   "outputs": [
    {
     "data": {
      "text/plain": [
       "array([1, 1, 1, 1, 1, 1, 1, 1, 1, 1, 1, 1, 1, 1, 1, 1, 1, 1, 1, 1, 1, 1,\n",
       "       1, 1, 1, 0, 0, 0, 0, 0, 0, 0, 0, 0, 0, 0, 0, 0, 0, 0, 0, 0, 0, 0,\n",
       "       0, 0, 0, 0, 0, 0, 0, 0, 0, 0])"
      ]
     },
     "execution_count": 103,
     "metadata": {},
     "output_type": "execute_result"
    }
   ],
   "source": [
    "y = np.array(y)\n",
    "for i in range(len(y)) :\n",
    "    if y[i] == 'Forged' :\n",
    "        y[i] = 1 ;\n",
    "    else :\n",
    "        y[i] = 0\n",
    "Y = y.astype('int')\n",
    "Y"
   ]
  },
  {
   "cell_type": "code",
   "execution_count": 104,
   "metadata": {},
   "outputs": [],
   "source": [
    "X = []\n",
    "for i in range(len(x)) :\n",
    "    X.append(np.array(x.iloc[i, :]))"
   ]
  },
  {
   "cell_type": "code",
   "execution_count": 105,
   "metadata": {},
   "outputs": [
    {
     "data": {
      "text/plain": [
       "[array([175, 210, 210, 771, 175, 191, 236, 214, 235, 213, 222, 203, 340,\n",
       "        237, 200, 182, 197, 180, 232, 204, 180, 388, 163, 192, 206, 209,\n",
       "        222, 202, 184, 165, 347, 212, 197, 218, 167, 200, 177, 227, 199,\n",
       "        374, 202, 238, 216, 199, 261, 206, 205, 237, 455, 218, 247, 221,\n",
       "        260, 289, 267, 274, 262, 445, 301, 259, 219, 247, 266, 327, 332,\n",
       "        271, 502, 338, 289, 355, 335, 413]),\n",
       " array([ 384,  300,  316, 1121,  265,  343,  358,  380,  336,  293,  295,\n",
       "         323,  453,  308,  350,  290,  244,  339,  305,  310,  223,  456,\n",
       "         261,  243,  227,  257,  278,  218,  218,  205,  429,  143,  184,\n",
       "         148,  231,  168,  200,  177,  195,  442,  194,  161,  198,  203,\n",
       "         223,  202,  194,  160,  380,  134,  196,  173,  179,  205,  185,\n",
       "         166,  167,  279,  107,  173,  175,  169,  153,  148,  148,  146,\n",
       "         315,  129,  165,  163,  144,  136]),\n",
       " array([128, 159, 135, 686, 118, 128, 162, 136, 144, 167, 181, 102, 259,\n",
       "        149, 192, 190, 150, 160, 163, 157, 156, 358, 142, 169, 180, 197,\n",
       "        176, 188, 220, 138, 267, 116, 177, 166, 164, 149, 152, 149, 151,\n",
       "        333, 136, 127, 158, 155, 162, 192, 137, 174, 309, 141, 131, 194,\n",
       "        152, 189, 176, 167, 128, 369, 159, 178, 199, 154, 183, 208, 193,\n",
       "        182, 318, 136, 202, 177, 201, 152]),\n",
       " array([135, 154, 143, 744, 126, 186, 190, 173, 150, 195, 167, 195, 332,\n",
       "        177, 211, 174, 177, 177, 213, 167, 161, 326, 163, 182, 180, 205,\n",
       "        213, 179, 189, 172, 303, 189, 191, 209, 221, 221, 201, 192, 180,\n",
       "        319, 169, 220, 215, 218, 199, 205, 204, 172, 323, 191, 199, 167,\n",
       "        174, 208, 229, 173, 135, 292, 181, 233, 185, 173, 197, 181, 200,\n",
       "        211, 317, 151, 200, 198, 196, 184]),\n",
       " array([218, 189, 194, 662, 153, 153, 209, 191, 196, 222, 163, 193, 404,\n",
       "        197, 226, 196, 218, 195, 198, 196, 177, 394, 188, 204, 194, 248,\n",
       "        197, 201, 197, 184, 278, 213, 171, 184, 172, 136, 225, 199, 185,\n",
       "        358, 196, 214, 172, 227, 176, 207, 175, 149, 275, 181, 162, 191,\n",
       "        190, 172, 147, 198, 212, 368, 182, 153, 171, 174, 150, 165, 235,\n",
       "        181, 313, 175, 213, 169, 193, 190]),\n",
       " array([ 18,  29,  67, 974,  49,  98,  55,  83,  71,  22,  39, 325,  34,\n",
       "         34,  40,  78,  43,  38,  22,  51, 242,  19,  41,  70,  84,  62,\n",
       "         27,  25,  45, 346,  24,  34,  81,  54,  85,  53,  57,  44, 405,\n",
       "         70,  80,  78, 103,  84,  85,  56,  57, 386,  48, 104,  82, 123,\n",
       "        104,  88,  30,  95, 403,  47,  75, 106,  93,  97,  49,  29,  33,\n",
       "        272,  21,  30,  46,  36,  46,  33]),\n",
       " array([ 343,  301,  297, 2405,  310,  294,  259,  321,  225,  211,  203,\n",
       "         197,  358,  228,  236,  191,  195,  227,  140,  216,  190,  314,\n",
       "         204,  319,  185,  206,  188,  197,  191,  207,  407,  242,  223,\n",
       "         209,  188,  135,  172,  173,  131,  280,  195,  196,  211,  145,\n",
       "         167,  107,  128,  110,  274,  200,  164,  162,  137,  141,   94,\n",
       "         132,   90,  289,  198,  187,  162,  118,  105,   92,  110,   79,\n",
       "         192,  250,  166,  175,  132,  100]),\n",
       " array([  65,   82,   82, 1588,   71,  169,  226,  220,  125,   90,  124,\n",
       "         126,  316,  108,  118,  138,  134,  145,   81,   94,  119,  328,\n",
       "         180,  195,  120,   99,  149,   94,  127,  125,  387,  154,  154,\n",
       "         194,  155,   84,  115,  112,  121,  420,  128,  177,  151,  153,\n",
       "          83,   83,  110,   93,  356,  166,  163,  155,  125,  145,   72,\n",
       "          98,   71,  324,   90,   73,   86,   95,  117,   31,   54,   75,\n",
       "         354,   83,  149,  152,  108,   55]),\n",
       " array([  18,   87,   73, 2223,   70,  114,  138,  100,   62,   52,   43,\n",
       "          72,  345,  180,  111,  118,   98,   98,   54,  103,   63,  318,\n",
       "         149,  156,  116,  109,   31,   46,   60,   45,  338,  133,  129,\n",
       "         107,  149,   28,   38,  113,   48,  318,  123,  168,  134,  156,\n",
       "          79,   65,  118,   89,  314,   97,  174,  126,   73,   88,   79,\n",
       "          42,   70,  333,  124,  205,  127,  202,  182,  107,   90,  139,\n",
       "         293,  134,  168,  130,   78,   80]),\n",
       " array([ 52,  95, 116, 626,  36,  65,  48,  49,  48,  51,  28,  25, 165,\n",
       "         73, 134, 141,  91,  59,  70,  53,  37, 161,  83, 145, 109,  78,\n",
       "        131,  66,  41,  18, 263, 139, 159,  94,  80,  54,  31,  26,  56,\n",
       "        257,  78, 159,  86, 101,  95,  77,  31,  44, 223,  99,  62,  73,\n",
       "         74,  87,  14,   7,  26, 243,  78, 117,  96,  84,  44,  20,  65,\n",
       "         51, 225,  96, 143,  82, 100,  56]),\n",
       " array([ 25,  99, 145, 403,  88, 139,  86, 128,  32,  34,   8,  51, 302,\n",
       "        146, 147, 104,  39,  12,  10,  52,  49, 240, 149, 133, 119,  40,\n",
       "         13,  26,  40,  20, 212, 110, 121,  86,  74,  42,  31,  60,  46,\n",
       "        246, 111, 176, 146, 130,  89,  39,  70,  56, 301,  90, 150, 138,\n",
       "        107,  50,  39,  64,  49, 317, 118,  84, 158,  67,  51,  26,  34,\n",
       "         28, 278, 104, 184, 148,  90,  77]),\n",
       " array([ 57, 206, 219, 426, 111, 177, 155, 216, 196,  98, 175, 125, 201,\n",
       "        225, 211, 209, 182, 228, 158, 196, 197, 191, 169, 211, 211, 211,\n",
       "        148,  71, 210, 135, 176, 137, 225, 208, 150, 208,  93, 175, 196,\n",
       "        184, 154, 196, 163, 148, 136,  40, 135, 141, 199, 152, 178, 175,\n",
       "        181, 172,  86, 172, 112, 136, 166, 181, 160, 179, 207, 115, 168,\n",
       "        136, 202, 162, 193, 195, 194, 118]),\n",
       " array([ 77, 156, 165, 582,  90, 205, 192, 155, 159,  83, 178, 244, 182,\n",
       "        200, 185, 199, 198, 204, 121, 141, 192, 194, 122, 191, 166, 159,\n",
       "        149, 111, 187, 138, 202, 161, 178, 162, 153, 182,  97, 114,  86,\n",
       "        187, 152, 152, 168, 121, 142,  70, 160, 198, 186, 169, 143, 173,\n",
       "        167, 127,  97, 186, 165, 176, 131, 218, 159, 130, 167, 100, 162,\n",
       "        123, 184, 186, 246, 161, 206, 272]),\n",
       " array([ 48,  64, 867, 175, 201, 220, 194, 154, 127,  80, 101, 329, 248,\n",
       "        206, 180, 147, 149, 142, 109,  95, 316, 192, 171, 196, 264, 192,\n",
       "        124, 135, 112, 240, 226, 203, 238, 206, 163, 143, 130, 111, 242,\n",
       "        210, 275, 237, 213, 174, 160, 154, 132, 294, 213, 197, 207, 207,\n",
       "        237, 158, 143, 140, 370, 255, 284, 234, 231, 206, 186, 132, 157,\n",
       "        413, 226, 241, 220, 237, 223, 168]),\n",
       " array([ 163,  177, 2117,  322,  235,  242,  241,  224,  241,  243,  198,\n",
       "         456,  303,  363,  344,  251,  330,  234,  247,  187,  441,  275,\n",
       "         254,  252,  230,  227,  173,  118,  114,  343,  267,  294,  169,\n",
       "         192,  185,  145,  130,  115,  327,  220,  165,  182,  183,  113,\n",
       "         150,   68,  118,  322,  214,  178,  253,  195,  175,  111,   90,\n",
       "         127,  326,  157,  170,  150,  131,  158,  127,   70,   82,  257,\n",
       "         117,  206,  194,  165,  116,  112]),\n",
       " array([ 46,  76, 751, 118, 127, 149, 135, 102,  94,  82,  84, 213, 188,\n",
       "        187, 168, 169, 130, 102,  90,  70, 238, 135, 171, 138, 128, 162,\n",
       "        106,  78,  92, 247, 185, 182, 203, 107, 101, 113,  64,  67, 249,\n",
       "        155, 156, 173, 131,  98,  90,  42,  71, 174, 123, 182, 145, 131,\n",
       "        103,  88, 109,  80, 303, 164, 163, 175, 176, 114, 172, 162, 129,\n",
       "        365, 183, 216, 163, 144, 151, 138]),\n",
       " array([ 162,  199, 2092,  224,  245,  121,  168,  145,  128,   74,  115,\n",
       "         329,  206,  217,  139,  111,  138,  124,   86,  137,  328,  158,\n",
       "         136,  135,  126,  136,  164,   95,  151,  280,  202,  151,  124,\n",
       "         140,  101,  113,   85,   91,  296,  156,  171,  134,  122,   93,\n",
       "         101,   85,  106,  166,  112,  158,  125,  124,  116,   70,   43,\n",
       "          73,  235,   83,  154,  128,  128,  156,   49,   39,   77,  249,\n",
       "          63,  124,  111,  152,   83,   75]),\n",
       " array([ 66,  87, 815, 125,  82, 401, 118, 157, 178, 106, 127, 125, 191,\n",
       "        107, 367, 106, 110,  93,  75,  93, 152, 120, 134, 316, 160, 139,\n",
       "         81,  89, 101, 197, 156,  91, 323, 157,  96, 168,  86, 142, 147,\n",
       "        122, 111, 340,  87, 169,  89, 111, 191, 183, 168, 112, 367, 136,\n",
       "        128, 111,  83, 124, 110, 126,  75, 302,  91,  71,  65,  62,  89,\n",
       "         80, 116,  90, 374,  86, 114, 105]),\n",
       " array([  41,  101, 1695,  132,  106,  384,  115,   99,   78,   33,   58,\n",
       "          48,   77,   46,  312,  132,  132,   76,   59,   89,   68,  112,\n",
       "          71,  312,  135,  107,   41,   17,   50,  101,   90,   62,  295,\n",
       "         131,   79,   51,   50,   73,   93,  162,   47,  344,  117,  125,\n",
       "          97,   78,   87,  137,  145,   78,  317,   96,   98,   75,   37,\n",
       "         119,  105,   68,   59,  367,  106,  189,   99,   86,  146,  141,\n",
       "         142,  139,  311,  109,  131,   72]),\n",
       " array([ 46,  66, 446,  80,  63, 323, 140,  25,   7,  28,  64,  74,  71,\n",
       "         16, 187,  90,  62,  64,  55,  62, 122,  60,  60, 217,  83,  77,\n",
       "         31,  73, 180, 156,  64,  47, 320, 211, 104,  59,  57,  88,  84,\n",
       "         81,  68, 220,  88, 104,  74,  88, 108, 130,  36,  51, 249,  67,\n",
       "         41,  58,  23,  35,  66,  47,  43, 232,  62,  55,  34,  13,  49,\n",
       "         87,  67,  38, 217,  84,  97,  52]),\n",
       " array([ 33, 115, 397, 106,  79, 314,  87,  78,  19,  26,  49,  53,  20,\n",
       "         69, 265,  93,  50,  12,  11,  25,  23,  57,  46, 208,  59,  43,\n",
       "         41,  29,  24,  48,  29,  30, 228,  64, 103,  38,  37,  29,  91,\n",
       "         87,  79, 265, 142, 161, 102,  73, 100,  90,  95,  42, 331,  97,\n",
       "         53,  52,  37, 107,  83,  70,  44, 239,  64,  99,  68,  31,  53,\n",
       "         56,  79,  31, 301,  87, 127, 127]),\n",
       " array([ 51, 215, 383, 147, 217, 144, 175, 206, 143, 115, 182, 163, 182,\n",
       "        173, 205, 165, 196, 156,  86, 214, 222, 178, 189, 162, 181, 232,\n",
       "        214, 109, 151, 162, 216, 121, 174, 196, 202, 194, 127, 176, 152,\n",
       "        189, 190, 156, 178, 223, 153,  74, 145, 148, 142, 132, 185, 195,\n",
       "        186, 232,  90, 207, 196, 196, 126, 190, 161, 209, 178,  96, 143,\n",
       "        185, 173, 178, 200, 162, 196, 193]),\n",
       " array([ 57, 201, 561, 118, 165, 180, 152, 225, 189,  91, 231, 173, 192,\n",
       "        214, 152, 172, 206, 196,  95, 157, 189, 153, 177, 189, 142, 127,\n",
       "        157,  98, 159, 165, 186, 140, 176, 123, 179, 180, 107, 154, 133,\n",
       "        128,  94, 148,  98, 148, 123,  82, 141, 163, 140, 188, 205, 148,\n",
       "        130, 159,  85, 130, 182, 198, 167, 196, 160, 214, 160, 136, 176,\n",
       "        182, 133, 143, 191, 226, 239, 188]),\n",
       " array([103, 148, 150, 182, 220, 168, 160, 174, 160,  49, 128, 153, 138,\n",
       "        157, 443, 118, 185, 186,  99, 173, 140, 162, 178, 194, 177, 153,\n",
       "        137, 133, 170, 172, 189, 162, 188, 143, 215, 214,  73,  97, 188,\n",
       "        128, 102, 164, 118, 161,  96,  81, 171, 168, 157, 118, 155, 193,\n",
       "        175, 202, 120, 160, 190, 148, 229, 189, 131, 188, 182,  99, 130,\n",
       "        147, 163, 197, 185, 236, 210, 287]),\n",
       " array([ 82, 153, 157, 186, 173, 150, 180, 167, 160,  84, 238, 197, 133,\n",
       "        210, 175, 165, 198, 158,  93, 208, 170, 178, 132, 197, 177, 188,\n",
       "        143,  93, 196, 165, 145, 149, 213, 174, 195, 139, 134, 180, 207,\n",
       "        169, 158, 185, 155, 208, 195,  90,  79, 176, 131, 148, 164, 102,\n",
       "        142,  93,  77, 177, 189, 158, 107, 145, 198, 178, 193, 111, 173,\n",
       "        181, 135, 231, 193, 141, 190, 162]),\n",
       " array([ 70,  98, 109, 157, 140, 116, 157, 117,  97,  35,  91,  77, 152,\n",
       "        167, 110, 112, 114,  61,  43, 132, 193, 189, 151, 147, 150, 175,\n",
       "        110,  69,  69, 100,  81, 131, 162, 157, 124, 151,  83, 152, 108,\n",
       "        121, 146, 147, 203, 140,  86,  51,  94, 144, 146, 130, 158, 122,\n",
       "        110,  93,  59, 132, 104, 140, 141, 203, 182, 165,  88,  47,  91,\n",
       "        123, 133, 120, 137, 127, 111,  79]),\n",
       " array([ 60, 118, 124, 145, 129, 119, 118,  63,  75,  29,  55, 114,  79,\n",
       "        182, 120, 198, 150,  79,  14,  75,  79,  92,  82,  98, 109,  84,\n",
       "         57,  17,  65, 100,  65, 137, 149,  85, 139,  52,  31,  52, 110,\n",
       "        130, 108, 141, 141, 101,  49,  14,  52,  70, 192, 101, 115, 107,\n",
       "        134,  47,  36, 118,  86, 121, 134, 118, 145, 109,  64,  11,  72,\n",
       "        110,  97,  95, 135, 102,  52,  74]),\n",
       " array([ 59,  70, 128, 228, 176,  71,  99,  39,  17,  27,  84,  64,  96,\n",
       "        124, 213, 269, 145,  25,   4,  18,  19,  38,  39,  72, 106,  49,\n",
       "         24,   6,  34,  76, 115,  94,  78, 110,  60,  42,  20,  75,  62,\n",
       "         55, 122, 171, 149,  60,  24,  45,  61,  64, 109,  97, 157, 140,\n",
       "         39,  32,  28,  83,  80,  87, 111, 125, 177,  46,  38,   1,  45,\n",
       "         45,  58,  44,  85,  69,  60,  46]),\n",
       " array([ 37, 123, 122, 114, 148,  57,  87,  35,  16,   9,  39,  45,  44,\n",
       "         46,  31,  21,   6,  19,   7,  44,  47,  93,  58,  58,  39,  49,\n",
       "         42,  11,  33,  12,  31,  40,  50,  57,  60,  32,  13,  58,  54,\n",
       "         58,  45,  39,  45,  31,  38,  16,  56,  46,  70,  81,  36,  74,\n",
       "         77,  57,  16, 101,  90, 131, 156, 114, 119,  95,  34,  33,  54,\n",
       "         60,  57,  84,  87,  87,  73,  37]),\n",
       " array([286, 131, 204, 155, 188, 196, 186, 191, 135,  65, 141, 149, 130,\n",
       "        150, 109, 184, 200, 197, 100, 131, 134, 167, 193, 177, 158, 191,\n",
       "        153,  95, 190, 184, 186, 194, 215, 232, 199, 201,  73, 161, 168,\n",
       "        172, 157, 157, 169, 228, 127, 109, 214, 159, 116, 178, 178, 184,\n",
       "        182, 213,  52, 165, 170, 148, 148, 119, 159, 149, 123,  68, 167,\n",
       "        151, 149, 171, 181, 158, 165, 140]),\n",
       " array([103, 148, 150, 182, 220, 168, 160, 174, 160,  41, 100, 149, 155,\n",
       "        198, 160, 249, 185, 117, 109, 172, 165, 139, 180, 203, 170, 184,\n",
       "        226,  89, 134, 213, 154, 167, 132, 172, 156, 175,  35,  87, 136,\n",
       "        148, 184, 133, 150, 178, 184,  36,  98, 155, 153, 201, 172, 140,\n",
       "        137, 135,  35,  93, 138,  93, 112, 160, 160, 127, 162,  87,  88,\n",
       "        156, 167, 154, 134, 182, 203, 144]),\n",
       " array([187, 222, 221, 229, 208, 187, 210, 208, 197, 128, 158, 189, 209,\n",
       "        136, 205, 238, 207, 181, 146, 184, 186, 169, 191, 200, 213, 210,\n",
       "        200, 144, 191, 177, 276, 201, 201, 213, 168, 182, 136, 181, 188,\n",
       "        203, 214, 188, 189, 203, 188, 154, 160, 164, 165, 148, 212, 168,\n",
       "        168, 174, 170, 202, 195, 187, 202, 176, 167, 201, 167, 128, 156,\n",
       "        152, 191, 173, 178, 177, 167, 180]),\n",
       " array([138, 171, 160, 142, 147, 184, 171, 183, 141, 131, 137, 204, 199,\n",
       "        160, 220, 145, 194, 153, 117, 176, 182, 140, 167, 173, 231, 161,\n",
       "        183, 109, 178, 175, 210, 184, 217, 213, 151, 132, 135, 179, 131,\n",
       "        181, 214, 202, 157, 175, 172, 123, 167, 195, 212, 197, 180, 201,\n",
       "        177, 188, 156, 178, 193, 199, 193, 172, 203, 236, 131,  98, 195,\n",
       "        202, 156, 172, 185, 196, 158, 161]),\n",
       " array([129, 146, 133, 151, 155, 188, 152, 151, 143,  91, 125, 125, 125,\n",
       "        156, 132, 176, 106, 144,  90, 136, 175, 143, 158, 147, 173, 131,\n",
       "        115,  77, 147, 177, 160, 177, 169, 185, 173, 149, 131, 167, 172,\n",
       "        159, 159, 135, 195, 215, 121,  81, 166, 137, 154, 163, 179, 173,\n",
       "        158, 115,  94, 105, 171, 181, 136, 196, 186, 167, 182,  99, 129,\n",
       "        135, 166, 154, 211, 185, 152, 154]),\n",
       " array([355, 302, 361, 321, 390, 345, 304, 392, 368, 276, 346, 280, 345,\n",
       "        356, 399, 388, 333, 305, 281, 341, 316, 406, 350, 309, 261, 306,\n",
       "        347, 260, 310, 316, 294, 316, 332, 376, 306, 285, 222, 264, 235,\n",
       "        205, 261, 268, 262, 220, 258, 128, 182, 181, 241, 228, 270, 241,\n",
       "        181, 233, 139, 165, 185, 200, 194, 261, 182, 203, 193, 117, 162,\n",
       "        168, 162, 187, 199, 171, 158, 143]),\n",
       " array([221, 196, 212, 194, 233, 227, 208, 195, 180, 228, 220, 220, 192,\n",
       "        139, 201, 212, 207, 177, 153, 217, 201, 220, 201, 192, 215, 208,\n",
       "        179, 177, 170, 188, 231, 216, 201, 168, 182, 180, 192, 181, 172,\n",
       "        160, 204, 198, 198, 198, 154, 213, 172, 192, 197, 189, 185, 200,\n",
       "        239, 226, 208, 205, 190, 199, 212, 213, 238, 212, 233, 208, 217,\n",
       "        228, 297, 319, 301, 369, 258, 280]),\n",
       " array([211, 233, 192, 200, 214, 226, 174, 169, 164, 174, 210, 220, 184,\n",
       "        169, 193, 219, 196, 193, 184, 232, 195, 218, 267, 198, 254, 205,\n",
       "        187, 197, 209, 206, 209, 245, 167, 195, 188, 171, 191, 187, 191,\n",
       "        213, 209, 203, 175, 214, 156, 183, 185, 240, 199, 204, 207, 189,\n",
       "        243, 204, 185, 206, 199, 205, 220, 237, 241, 265, 272, 243, 229,\n",
       "        221, 222, 314, 330, 287, 230, 286]),\n",
       " array([283, 280, 305, 311, 423, 363, 292, 376, 299, 284, 365, 278, 297,\n",
       "        346, 384, 371, 286, 297, 258, 333, 379, 315, 314, 302, 262, 316,\n",
       "        287, 215, 295, 341, 309, 358, 361, 327, 299, 271, 227, 255, 219,\n",
       "        271, 258, 251, 227, 231, 261, 127, 164, 268, 212, 203, 232, 250,\n",
       "        169, 179, 136, 155, 197, 176, 220, 238, 214, 193, 145, 128, 184,\n",
       "        146, 209, 151, 209, 184, 153, 131]),\n",
       " array([147, 148, 127, 121, 169, 176, 167, 155, 126, 104, 125, 132, 151,\n",
       "        159, 160, 145, 168, 136,  94, 146, 194, 177, 213, 163, 195, 110,\n",
       "        132,  92, 184, 190, 151, 191, 177, 151, 165, 124, 110, 157, 208,\n",
       "        196, 145, 157, 188, 345, 134,  63, 158, 154, 145, 149, 140, 158,\n",
       "        143, 156,  99, 132, 175, 141, 141, 161, 198, 156, 182,  97, 135,\n",
       "        182, 164, 158, 167, 205, 145, 142]),\n",
       " array([128, 160, 161, 138, 155, 169, 136, 162, 162, 115, 176, 196, 216,\n",
       "        184, 180, 172, 180, 140, 101, 185, 191, 146, 165, 168, 212, 186,\n",
       "        171, 105, 200, 219, 204, 166, 191, 193, 128, 173, 136, 185, 149,\n",
       "        167, 215, 176, 168, 201, 169, 116, 198, 184, 217, 184, 164, 185,\n",
       "        202, 172, 136, 173, 214, 214, 168, 168, 191, 222, 157, 129, 166,\n",
       "        181, 153, 176, 201, 204, 167, 133]),\n",
       " array([214, 254, 201, 209, 248, 175, 225, 206, 180, 115, 151, 209, 243,\n",
       "        157, 199, 209, 209, 169, 161, 200, 211, 166, 160, 186, 175, 176,\n",
       "        189, 171, 186, 190, 214, 192, 207, 211, 163, 194, 180, 183, 180,\n",
       "        185, 238, 213, 198, 167, 168, 155, 177, 182, 128, 132, 219, 166,\n",
       "        175, 164, 155, 223, 181, 153, 209, 234, 173, 187, 179, 139, 177,\n",
       "        166, 179, 201, 161, 153, 167, 167]),\n",
       " array([359, 290, 338, 401, 347, 333, 268, 307, 313, 248, 286, 265, 287,\n",
       "        220, 257, 260, 270, 220, 245, 252, 243, 265, 224, 292, 238, 225,\n",
       "        175, 154, 130, 145, 217, 266, 241, 149, 199, 213,  81, 173, 156,\n",
       "        171, 210, 196, 221, 198, 187, 102, 152, 241, 206, 205, 217, 227,\n",
       "        168, 157,  68, 116, 203, 169, 174, 161, 140, 124, 121,  44,  76,\n",
       "        123, 118, 138, 131, 174, 127, 131]),\n",
       " array([ 81, 155, 160, 160, 181, 189, 177, 163, 110,  25,  68, 105, 154,\n",
       "        126, 177, 165, 130, 119,  36, 111, 128, 151, 162, 179, 147, 137,\n",
       "        112,  66,  95, 121, 159, 161, 181, 208, 164, 117,  63, 119, 140,\n",
       "        238, 229, 142, 207, 170, 163, 103, 116, 179, 169, 142, 181, 183,\n",
       "        153, 132,  90, 143, 167, 236, 175, 173, 214, 162, 146,  82, 127,\n",
       "        169, 198, 231, 209, 186, 178, 159]),\n",
       " array([188, 214, 265, 296, 271, 319, 273, 237, 199, 173, 145, 244, 271,\n",
       "        222, 214, 311, 248, 227, 224, 156, 179, 236, 258, 273, 236, 226,\n",
       "        240, 130, 201, 287, 256, 300, 268, 209, 267, 211, 122, 199, 221,\n",
       "        193, 253, 177, 202, 156, 100,  99,  97, 157, 166, 165, 177, 166,\n",
       "        177, 162,  88, 121, 131, 142, 114, 173, 152, 122, 106,  64, 124,\n",
       "        153, 128, 184, 146, 159, 128, 128]),\n",
       " array([148, 168, 156, 179, 194, 134, 141, 109,  57,  65,  93, 122, 149,\n",
       "        116, 124, 114,  97,  95,  32,  78, 102, 123, 123, 132, 129, 100,\n",
       "        104,  61,  93, 156, 135, 129, 164, 167, 118,  90,  23,  78, 111,\n",
       "        189, 173, 154, 211, 127, 104,  66,  77, 105, 112, 135, 112, 136,\n",
       "        165, 107,  30,  62,  79, 108, 118, 117,  97, 102,  91,  44, 115,\n",
       "         89, 139, 112, 105, 131,  92,  90]),\n",
       " array([166, 262, 170, 199, 201, 159, 207, 185, 149,  87, 123, 123, 136,\n",
       "        122, 160, 187, 185, 121,  94, 117, 132, 127, 138, 153, 129, 157,\n",
       "        138,  57,  92, 132, 106, 125, 123, 134, 170, 156,  68,  97,  84,\n",
       "        133, 161, 165, 209, 136, 170,  63,  90, 117, 146, 120, 142, 160,\n",
       "        166, 113,  56, 106, 104, 129, 115, 131, 108, 121,  84,  39,  87,\n",
       "         75, 103, 122, 103, 134,  98,  77]),\n",
       " array([ 75, 118, 131, 141, 148, 111, 138, 186, 187,  57, 125, 144, 165,\n",
       "        161, 144, 191, 126, 150, 103, 186, 153, 135, 134, 196, 173, 179,\n",
       "        196,  76, 120, 157, 186, 131, 122, 161, 149, 182,  55, 144, 159,\n",
       "        153, 179, 146, 177, 196, 191,  58, 105, 124, 144, 132, 118, 135,\n",
       "        108, 134,  47, 112, 121, 106, 121, 128, 153, 158, 183,  68,  90,\n",
       "        117, 170, 157, 133, 198, 159, 156]),\n",
       " array([ 79, 159, 136, 181, 121, 167, 140, 172, 171,  54, 157, 133, 145,\n",
       "        148, 104, 174, 168, 172,  77, 167, 141, 128, 175, 169, 156, 174,\n",
       "        186,  95, 192, 173, 199, 178, 184, 196, 179, 193,  52, 122, 110,\n",
       "        155, 192, 145, 162, 236, 144,  85, 183, 111,  96, 146, 152, 156,\n",
       "        154, 205,  53, 141, 142, 151, 132, 107, 170, 155, 149,  64, 161,\n",
       "        118, 134, 148, 195, 165, 186, 150]),\n",
       " array([ 54,  97, 100, 106, 133, 149, 137, 176, 172,  51, 124, 118, 126,\n",
       "        120, 149, 152, 122, 244,  71, 118, 150, 125, 147, 143, 107, 132,\n",
       "        187,  58, 125, 149, 105, 128,  86, 155, 184, 218,  46, 106,  86,\n",
       "        101, 156,  94, 152, 173, 205,  30,  90, 175, 152, 103, 105, 154,\n",
       "        181, 160,  26, 115, 127, 164, 158, 143, 190, 205, 224,  54, 142,\n",
       "        207, 183, 227, 197, 176, 146, 109]),\n",
       " array([ 48, 197, 213, 164, 295, 282, 204, 136,  87,  16, 161, 279, 187,\n",
       "        296, 258, 215,  56,  78,  23, 157, 258, 307, 271, 200, 117,  61,\n",
       "         32,  33, 159, 191, 203, 204, 204,  96,  39,  35,  15,  92,  81,\n",
       "         59,  83,  46,  53,  41,  20,  31,  79, 188, 249,  59, 129, 206,\n",
       "         56,  29,   9,  51,  88, 108,  61,  56,  71,  83,  26,   4, 103,\n",
       "        271, 287,  75,  71,  72,  91,  90]),\n",
       " array([ 36, 155, 185, 183, 181, 173, 129,  59,  38,  25,  72,  88,  95,\n",
       "         85,  53,  58,  24,  32,  28,  92, 101, 145, 104,  89, 109,  62,\n",
       "         72,  10,  34,  30,  56,  35,  62,  65,  85,  46,  14,  50,  62,\n",
       "         83,  78,  62,  63,  45,  45,  23,  81,  74,  90, 109,  68, 144,\n",
       "        122,  76,  24, 127, 117, 115, 161, 175, 142, 146,  66,  43,  53,\n",
       "         90, 112, 130, 148, 151, 156,  46]),\n",
       " array([ 66, 100, 170, 233, 186, 121, 146,  90,  38,  42,  89,  98, 138,\n",
       "        191, 283, 314, 202,  47,   5,  31,  79,  70, 127, 113, 128,  85,\n",
       "         38,  14,  64, 122, 123, 131, 112, 147, 106,  67,  28, 120,  90,\n",
       "         93, 202, 265, 218, 104,  56,  32,  99, 120, 153, 116, 211, 201,\n",
       "         70,  74,  22, 109,  70, 101, 136, 167, 173,  72,  58,  16,  53,\n",
       "         81, 113,  88, 122,  88,  86, 106]),\n",
       " array([ 63, 130, 132, 197, 211, 147, 183, 128, 105,  30,  46, 137, 127,\n",
       "        196, 181, 236, 255, 104,  19, 102, 105, 159, 110, 126, 156, 109,\n",
       "         93,  28, 131, 155, 112, 181, 190,  95, 160, 119,  35, 106, 120,\n",
       "        169, 146, 171, 187,  95, 103,  37, 106,  91, 196, 122, 173, 193,\n",
       "        170,  58,  67, 145, 123, 182, 164, 139, 219, 172,  97,  24, 132,\n",
       "        144, 119, 122, 155, 131,  69, 119]),\n",
       " array([ 94,  96, 172, 199, 177, 154, 177, 152, 117,  44, 104, 101, 225,\n",
       "        155, 112, 149,  97,  87,  53, 126, 203, 206, 175, 164, 136, 179,\n",
       "        144,  75,  94, 132, 111, 179, 177, 205, 158, 152,  72, 167, 161,\n",
       "        154, 179, 159, 232, 184, 137,  46, 120, 192, 188, 140, 204, 199,\n",
       "        159, 137,  87, 133, 147, 207, 162, 188, 183, 173, 133,  62, 110,\n",
       "        158, 159, 151, 194, 139, 119,  55])]"
      ]
     },
     "execution_count": 105,
     "metadata": {},
     "output_type": "execute_result"
    }
   ],
   "source": [
    "X"
   ]
  },
  {
   "cell_type": "code",
   "execution_count": 92,
   "metadata": {},
   "outputs": [],
   "source": [
    "from sklearn import preprocessing\n",
    "\n",
    "min_max_scaler = preprocessing.MinMaxScaler()\n",
    "X = min_max_scaler.fit_transform(X)"
   ]
  },
  {
   "cell_type": "code",
   "execution_count": 93,
   "metadata": {},
   "outputs": [
    {
     "data": {
      "text/plain": [
       "array([[0.42896175, 0.66300366, 0.0697561 , ..., 0.95795796, 1.        ,\n",
       "        1.        ],\n",
       "       [1.        , 0.99267399, 0.12146341, ..., 0.38138138, 0.33910035,\n",
       "        0.27105263],\n",
       "       [0.30054645, 0.47619048, 0.03317073, ..., 0.42342342, 0.53633218,\n",
       "        0.31315789],\n",
       "       ...,\n",
       "       [0.13114754, 0.26007326, 0.0502439 , ..., 0.15615616, 0.1384083 ,\n",
       "        0.19210526],\n",
       "       [0.12295082, 0.36996337, 0.03170732, ..., 0.28528529, 0.07958478,\n",
       "        0.22631579],\n",
       "       [0.20765027, 0.24542125, 0.05121951, ..., 0.30930931, 0.25259516,\n",
       "        0.05789474]])"
      ]
     },
     "execution_count": 93,
     "metadata": {},
     "output_type": "execute_result"
    }
   ],
   "source": [
    "X"
   ]
  },
  {
   "cell_type": "code",
   "execution_count": 107,
   "metadata": {},
   "outputs": [],
   "source": [
    "x_train, x_test, y_train, y_test = train_test_split(X, Y, train_size=0.8, random_state = 1)"
   ]
  },
  {
   "cell_type": "code",
   "execution_count": 108,
   "metadata": {},
   "outputs": [
    {
     "data": {
      "text/plain": [
       "DecisionTreeClassifier(class_weight=None, criterion='gini', max_depth=None,\n",
       "                       max_features=None, max_leaf_nodes=None,\n",
       "                       min_impurity_decrease=0.0, min_impurity_split=None,\n",
       "                       min_samples_leaf=1, min_samples_split=2,\n",
       "                       min_weight_fraction_leaf=0.0, presort=False,\n",
       "                       random_state=None, splitter='best')"
      ]
     },
     "execution_count": 108,
     "metadata": {},
     "output_type": "execute_result"
    }
   ],
   "source": [
    "clf = DecisionTreeClassifier()\n",
    "clf.fit(x_train, y_train)"
   ]
  },
  {
   "cell_type": "code",
   "execution_count": 109,
   "metadata": {},
   "outputs": [
    {
     "data": {
      "text/plain": [
       "0.8181818181818182"
      ]
     },
     "execution_count": 109,
     "metadata": {},
     "output_type": "execute_result"
    }
   ],
   "source": [
    "clf.score(x_test, y_test)"
   ]
  },
  {
   "cell_type": "code",
   "execution_count": 110,
   "metadata": {},
   "outputs": [
    {
     "data": {
      "text/plain": [
       "1.0"
      ]
     },
     "execution_count": 110,
     "metadata": {},
     "output_type": "execute_result"
    }
   ],
   "source": [
    "clf.score(x_train, y_train)"
   ]
  },
  {
   "cell_type": "code",
   "execution_count": 106,
   "metadata": {},
   "outputs": [],
   "source": [
    "sc = preprocessing.StandardScaler()\n",
    "X = sc.fit_transform(X)"
   ]
  },
  {
   "cell_type": "code",
   "execution_count": 86,
   "metadata": {},
   "outputs": [
    {
     "data": {
      "image/png": "[encoded data removed]",
      "text/plain": [
       "<IPython.core.display.Image object>"
      ]
     },
     "execution_count": 86,
     "metadata": {},
     "output_type": "execute_result"
    }
   ],
   "source": [
    "# This method is to store your classifier's tree in a pdf in the same \n",
    "# directory you are working in !\n",
    "\n",
    "dot_data = export_graphviz(clf, out_file=None, class_names = ['Forged', 'Original'])\n",
    "graph = pydotplus.graph_from_dot_data(dot_data)\n",
    "# graph.write_pdf(\"iris.pdf\")  Sirs way\n",
    "# graph = graphviz.Source(dot_data) New Way\n",
    "# graph.render(\"iris\") \n",
    "\n",
    "Image(graph.create_png()) # Another imp way"
   ]
  },
  {
   "cell_type": "code",
   "execution_count": 150,
   "metadata": {},
   "outputs": [
    {
     "data": {
      "text/plain": [
       "(0.9090909090909091, 0.9534883720930233)"
      ]
     },
     "execution_count": 150,
     "metadata": {},
     "output_type": "execute_result"
    }
   ],
   "source": [
    "from sklearn.ensemble import RandomForestClassifier\n",
    "clf = RandomForestClassifier(max_depth = 10, random_state=0, min_samples_split=15, n_estimators=20, criterion='entropy')\n",
    "clf.fit(x_train, y_train)\n",
    "clf.score(x_test, y_test),clf.score(x_train, y_train)"
   ]
  }
 ],
 "metadata": {
  "kernelspec": {
   "display_name": "Python 3",
   "language": "python",
   "name": "python3"
  },
  "language_info": {
   "codemirror_mode": {
    "name": "ipython",
    "version": 3
   },
   "file_extension": ".py",
   "mimetype": "text/x-python",
   "name": "python",
   "nbconvert_exporter": "python",
   "pygments_lexer": "ipython3",
   "version": "3.7.4"
  }
 },
 "nbformat": 4,
 "nbformat_minor": 2
}
